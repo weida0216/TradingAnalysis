{
 "cells": [
  {
   "cell_type": "markdown",
   "id": "002e3fe8",
   "metadata": {},
   "source": [
    "# Scraping Active Security Prices from HSX website\n",
    "\n",
    "### What?\n",
    "This program will scrape the latest security price of a requested security from the HSX website \n",
    "\n",
    "### Why? \n",
    "The latest security price is needed to calculate the market value and realised gain/loss \n",
    "\n",
    "### How? \n",
    "1. Find out which security positions are open\n",
    "2. Take input parameter of the name of the security through a iteration of all the open positions\n",
    "3. Use the input name to find the web page of interest (eg. https://www.hsx.com/security/view/(insert security symbol)\n",
    "4. Scrape the latest price by first extracting whole chunk as string and then use string slicing to obtain price\n",
    "5. Tidy up df and save to CSV file"
   ]
  },
  {
   "cell_type": "markdown",
   "id": "a5a2ae76",
   "metadata": {},
   "source": [
    "## Main Program"
   ]
  },
  {
   "cell_type": "markdown",
   "id": "3a12fde4",
   "metadata": {},
   "source": [
    "#### Import Libraries"
   ]
  },
  {
   "cell_type": "code",
   "execution_count": 1,
   "id": "0074414d",
   "metadata": {},
   "outputs": [],
   "source": [
    "import platform\n",
    "import pyodbc\n",
    "import pandas as pd\n",
    "import requests\n",
    "from bs4 import BeautifulSoup as soup"
   ]
  },
  {
   "cell_type": "markdown",
   "id": "9cfbd7fb",
   "metadata": {},
   "source": [
    "#### System Parameters"
   ]
  },
  {
   "cell_type": "code",
   "execution_count": 2,
   "id": "2a62f7b5",
   "metadata": {},
   "outputs": [],
   "source": [
    "def db_connect_str_from_env ():\n",
    "    if platform.system() == 'Windows':\n",
    "        driver = 'DRIVER={SQL Server};'\n",
    "    elif platform.system() == 'Darwin': #MacOS\n",
    "        if platform.machine() == 'arm64': #M1 chip\n",
    "            driver = 'DRIVER=/opt/homebrew/lib/libmsodbcsql.18.dylib;'\n",
    "        else:\n",
    "            driver = 'DRIVER=/Library/simba/sqlserverodbc/lib/libsqlserverodbc_sbu.dylib;'\n",
    "    \n",
    "    return driver + 'SERVER=dlyle.database.windows.net;DATABASE=HSX;UID=student;PWD=Viz(Data);'\n",
    "\n",
    "DB = db_connect_str_from_env()"
   ]
  },
  {
   "cell_type": "markdown",
   "id": "1285b930",
   "metadata": {},
   "source": [
    "#### Extract data from database into dataframe"
   ]
  },
  {
   "cell_type": "code",
   "execution_count": 3,
   "id": "1af003f4",
   "metadata": {},
   "outputs": [
    {
     "name": "stderr",
     "output_type": "stream",
     "text": [
      "/Users/weida/opt/anaconda3/lib/python3.9/site-packages/pandas/io/sql.py:761: UserWarning: pandas only support SQLAlchemy connectable(engine/connection) ordatabase string URI or sqlite3 DBAPI2 connectionother DBAPI2 objects are not tested, please consider using SQLAlchemy\n",
      "  warnings.warn(\n"
     ]
    }
   ],
   "source": [
    "# Extract only security symbols of open positions \n",
    "SQL = \"\"\"\n",
    "  SELECT DISTINCT Security_symbol\n",
    "FROM (\n",
    "SELECT Security_symbol, User_name, sum(signed_quant) AS balance\n",
    "FROM (\n",
    "    SELECT Security_Symbol, User_Name, \n",
    "    CASE WHEN Action = 'Buy' or Action = 'Short' THEN Quantity\n",
    "    ELSE -1 * Quantity END AS signed_quant\n",
    "    FROM Trades\n",
    "    WHERE User_Name in ('will_ho', 'rkhoo', 'lucasee')\n",
    ") AS signed_table\n",
    "GROUP BY Security_Symbol, User_Name\n",
    "HAVING sum(signed_quant) > 0\n",
    ") AS open_positions\n",
    "\"\"\"\n",
    "# create df\n",
    "data = pd.read_sql(SQL, pyodbc.connect(DB))\n"
   ]
  },
  {
   "cell_type": "markdown",
   "id": "92219ac7",
   "metadata": {},
   "source": [
    "#### Functions"
   ]
  },
  {
   "cell_type": "code",
   "execution_count": 4,
   "id": "d7e4fa1f",
   "metadata": {},
   "outputs": [],
   "source": [
    "# Function to scrape data\n",
    "def fetch_latest_price(_symbol):\n",
    "    # Find webpage to extract price\n",
    "    url = f\"https://www.hsx.com/security/view/{_symbol}\"\n",
    "    # Request\n",
    "    r = requests.get(url)\n",
    "    #check that url is not broken\n",
    "    if r.status_code == 200:\n",
    "        page = soup(r.content)\n",
    "        # Extract out the portion of the page that we are interested in and convert it into a string\n",
    "        focus = str(page.select('p[class=\"value\"]'))\n",
    "        # Locate start of information of interest\n",
    "        start = focus.find('H') + 1\n",
    "        # Locate end\n",
    "        end = focus.find('.') + 2\n",
    "        price = focus[start:end+1]\n",
    "        return ([_symbol, price])\n",
    "     # if url is broken\n",
    "    else:\n",
    "        print('Error', r.status_code, 'Page not found for:', url)"
   ]
  },
  {
   "cell_type": "markdown",
   "id": "26d3cce4",
   "metadata": {},
   "source": [
    "#### Main Program"
   ]
  },
  {
   "cell_type": "code",
   "execution_count": 5,
   "id": "94c15eba",
   "metadata": {},
   "outputs": [],
   "source": [
    "# Empty list to store [_symbol, price]\n",
    "info = []\n",
    "# for each security symbol in data, fetch latest price\n",
    "for symbol in data[\"Security_symbol\"]:\n",
    "    info.append(fetch_latest_price(symbol))\n",
    "# convert info into a dataframe\n",
    "latest_price_df = pd.DataFrame(info)\n",
    "# give it useful column names\n",
    "latest_price_df.columns = [\"Security Symbol\", \"Latest price\"]\n"
   ]
  },
  {
   "cell_type": "code",
   "execution_count": 6,
   "id": "a80ee219",
   "metadata": {},
   "outputs": [
    {
     "data": {
      "text/html": [
       "<div>\n",
       "<style scoped>\n",
       "    .dataframe tbody tr th:only-of-type {\n",
       "        vertical-align: middle;\n",
       "    }\n",
       "\n",
       "    .dataframe tbody tr th {\n",
       "        vertical-align: top;\n",
       "    }\n",
       "\n",
       "    .dataframe thead th {\n",
       "        text-align: right;\n",
       "    }\n",
       "</style>\n",
       "<table border=\"1\" class=\"dataframe\">\n",
       "  <thead>\n",
       "    <tr style=\"text-align: right;\">\n",
       "      <th></th>\n",
       "      <th>Security Symbol</th>\n",
       "      <th>Latest price</th>\n",
       "    </tr>\n",
       "  </thead>\n",
       "  <tbody>\n",
       "    <tr>\n",
       "      <th>0</th>\n",
       "      <td>50CEN</td>\n",
       "      <td>$46.42</td>\n",
       "    </tr>\n",
       "    <tr>\n",
       "      <th>1</th>\n",
       "      <td>ACORN</td>\n",
       "      <td>$32.84</td>\n",
       "    </tr>\n",
       "    <tr>\n",
       "      <th>2</th>\n",
       "      <td>ALASKA</td>\n",
       "      <td>$13.86</td>\n",
       "    </tr>\n",
       "    <tr>\n",
       "      <th>3</th>\n",
       "      <td>AMSTR</td>\n",
       "      <td>$14.57</td>\n",
       "    </tr>\n",
       "    <tr>\n",
       "      <th>4</th>\n",
       "      <td>ARMGT.OW</td>\n",
       "      <td>$0.79</td>\n",
       "    </tr>\n",
       "    <tr>\n",
       "      <th>5</th>\n",
       "      <td>ASCLB</td>\n",
       "      <td>$13.00</td>\n",
       "    </tr>\n",
       "    <tr>\n",
       "      <th>6</th>\n",
       "      <td>BADAM.OW</td>\n",
       "      <td>$67.00</td>\n",
       "    </tr>\n",
       "    <tr>\n",
       "      <th>7</th>\n",
       "      <td>CDSG</td>\n",
       "      <td>$12.02</td>\n",
       "    </tr>\n",
       "    <tr>\n",
       "      <th>8</th>\n",
       "      <td>DEAD3</td>\n",
       "      <td>$225.84</td>\n",
       "    </tr>\n",
       "    <tr>\n",
       "      <th>9</th>\n",
       "      <td>FANF2</td>\n",
       "      <td>$140.87</td>\n",
       "    </tr>\n",
       "    <tr>\n",
       "      <th>10</th>\n",
       "      <td>HALW5</td>\n",
       "      <td>$63.49</td>\n",
       "    </tr>\n",
       "    <tr>\n",
       "      <th>11</th>\n",
       "      <td>INOU2</td>\n",
       "      <td>$188.87</td>\n",
       "    </tr>\n",
       "    <tr>\n",
       "      <th>12</th>\n",
       "      <td>KKID2</td>\n",
       "      <td>$80.29</td>\n",
       "    </tr>\n",
       "    <tr>\n",
       "      <th>13</th>\n",
       "      <td>LILST</td>\n",
       "      <td>$32.98</td>\n",
       "    </tr>\n",
       "    <tr>\n",
       "      <th>14</th>\n",
       "      <td>LYLEC</td>\n",
       "      <td>$32.48</td>\n",
       "    </tr>\n",
       "    <tr>\n",
       "      <th>15</th>\n",
       "      <td>MARIO</td>\n",
       "      <td>$127.18</td>\n",
       "    </tr>\n",
       "    <tr>\n",
       "      <th>16</th>\n",
       "      <td>QUBON</td>\n",
       "      <td>$7.31</td>\n",
       "    </tr>\n",
       "    <tr>\n",
       "      <th>17</th>\n",
       "      <td>TRSAD</td>\n",
       "      <td>$3.32</td>\n",
       "    </tr>\n",
       "  </tbody>\n",
       "</table>\n",
       "</div>"
      ],
      "text/plain": [
       "   Security Symbol Latest price\n",
       "0            50CEN       $46.42\n",
       "1            ACORN       $32.84\n",
       "2           ALASKA       $13.86\n",
       "3            AMSTR       $14.57\n",
       "4         ARMGT.OW        $0.79\n",
       "5            ASCLB       $13.00\n",
       "6         BADAM.OW       $67.00\n",
       "7             CDSG       $12.02\n",
       "8            DEAD3      $225.84\n",
       "9            FANF2      $140.87\n",
       "10           HALW5       $63.49\n",
       "11           INOU2      $188.87\n",
       "12           KKID2       $80.29\n",
       "13           LILST       $32.98\n",
       "14           LYLEC       $32.48\n",
       "15           MARIO      $127.18\n",
       "16           QUBON        $7.31\n",
       "17           TRSAD        $3.32"
      ]
     },
     "execution_count": 6,
     "metadata": {},
     "output_type": "execute_result"
    }
   ],
   "source": [
    "# Convert df into a csv file\n",
    "latest_price_df.to_csv('Latest_price.csv', index = False)\n"
   ]
  },
  {
   "cell_type": "code",
   "execution_count": null,
   "id": "ba86e041",
   "metadata": {},
   "outputs": [],
   "source": []
  }
 ],
 "metadata": {
  "kernelspec": {
   "display_name": "Python 3 (ipykernel)",
   "language": "python",
   "name": "python3"
  },
  "language_info": {
   "codemirror_mode": {
    "name": "ipython",
    "version": 3
   },
   "file_extension": ".py",
   "mimetype": "text/x-python",
   "name": "python",
   "nbconvert_exporter": "python",
   "pygments_lexer": "ipython3",
   "version": "3.9.12"
  }
 },
 "nbformat": 4,
 "nbformat_minor": 5
}
